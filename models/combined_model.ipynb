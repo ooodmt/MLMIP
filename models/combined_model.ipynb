{
 "cells": [
  {
   "cell_type": "code",
   "execution_count": 1,
   "metadata": {},
   "outputs": [],
   "source": [
    "import os\n",
    "import random\n",
    "import torch\n",
    "import time\n",
    "import pandas as pd\n",
    "import numpy as np\n",
    "import cv2\n",
    "import matplotlib.pyplot as plt\n",
    "from sklearn.metrics import classification_report\n",
    "import random\n",
    "import torch.nn as nn\n",
    "import torchvision\n",
    "from torchvision.transforms import transforms\n",
    "from torch.utils.data import DataLoader, Dataset\n",
    "from PIL import Image\n",
    "from torch.autograd import Variable\n",
    "from tqdm.notebook import tqdm\n",
    "from sklearn.metrics import roc_auc_score\n",
    "from torch.utils.tensorboard import SummaryWriter "
   ]
  },
  {
   "cell_type": "code",
   "execution_count": null,
   "metadata": {},
   "outputs": [],
   "source": [
    "# path to chexpert dataset with structure outlined in the project description\n",
    "data_path = '/data'\n",
    "\n",
    "train_csv_path = data_path + '/chexpert/v1.0/train.csv'\n",
    "valid_csv_path = data_path + '/chexpert/v1.0/valid.csv'\n",
    "dir_path = data_path + '/chexpert/v1.0/'\n",
    "\n",
    "#path to the directory with saved state dictionaries\n",
    "model_path = '/saves'"
   ]
  },
  {
   "cell_type": "code",
   "execution_count": 3,
   "metadata": {},
   "outputs": [
    {
     "data": {
      "text/plain": [
       "<torch._C.Generator at 0x7f51143693d0>"
      ]
     },
     "execution_count": 3,
     "metadata": {},
     "output_type": "execute_result"
    }
   ],
   "source": [
    "np.random.seed(2020)\n",
    "torch.manual_seed(2020)"
   ]
  },
  {
   "cell_type": "code",
   "execution_count": 4,
   "metadata": {},
   "outputs": [],
   "source": [
    "# data pre-processing, combining training set and test set, only use frontal images.\n",
    "train_csv = pd.read_csv(train_csv_path, sep=',').fillna(0)\n",
    "valid_csv = pd.read_csv(valid_csv_path, sep=',').fillna(0)\n",
    "train_csv = train_csv[~train_csv[train_csv.columns[3]].str.contains(\"Lateral\")]\n",
    "valid_csv = valid_csv[~valid_csv[valid_csv.columns[3]].str.contains(\"Lateral\")]\n",
    "\n",
    "#this image is lost\n",
    "pa = 'CheXpert-v1.0/train/patient40761/study1/view1_frontal.jpg'\n",
    "train_csv = train_csv[~train_csv[train_csv.columns[0]].str.contains(pa)]\n",
    "\n",
    "# drop other information \n",
    "train_csv = train_csv.drop(['Sex', 'Age', 'Frontal/Lateral', 'AP/PA'], axis=1)\n",
    "valid_csv = valid_csv.drop(['Sex', 'Age', 'Frontal/Lateral', 'AP/PA'], axis=1)\n"
   ]
  },
  {
   "cell_type": "code",
   "execution_count": 5,
   "metadata": {},
   "outputs": [
    {
     "data": {
      "text/html": [
       "<div>\n",
       "<style scoped>\n",
       "    .dataframe tbody tr th:only-of-type {\n",
       "        vertical-align: middle;\n",
       "    }\n",
       "\n",
       "    .dataframe tbody tr th {\n",
       "        vertical-align: top;\n",
       "    }\n",
       "\n",
       "    .dataframe thead th {\n",
       "        text-align: right;\n",
       "    }\n",
       "</style>\n",
       "<table border=\"1\" class=\"dataframe\">\n",
       "  <thead>\n",
       "    <tr style=\"text-align: right;\">\n",
       "      <th></th>\n",
       "      <th>Path</th>\n",
       "      <th>No Finding</th>\n",
       "      <th>Enlarged Cardiomediastinum</th>\n",
       "      <th>Cardiomegaly</th>\n",
       "      <th>Lung Opacity</th>\n",
       "      <th>Lung Lesion</th>\n",
       "      <th>Edema</th>\n",
       "      <th>Consolidation</th>\n",
       "      <th>Pneumonia</th>\n",
       "      <th>Atelectasis</th>\n",
       "      <th>Pneumothorax</th>\n",
       "      <th>Pleural Effusion</th>\n",
       "      <th>Pleural Other</th>\n",
       "      <th>Fracture</th>\n",
       "      <th>Support Devices</th>\n",
       "    </tr>\n",
       "  </thead>\n",
       "  <tbody>\n",
       "    <tr>\n",
       "      <th>0</th>\n",
       "      <td>CheXpert-v1.0/train/patient00001/study1/view1_...</td>\n",
       "      <td>1.0</td>\n",
       "      <td>0.0</td>\n",
       "      <td>0.0</td>\n",
       "      <td>0.0</td>\n",
       "      <td>0.0</td>\n",
       "      <td>0.0</td>\n",
       "      <td>0.0</td>\n",
       "      <td>0.0</td>\n",
       "      <td>0.0</td>\n",
       "      <td>0.0</td>\n",
       "      <td>0.0</td>\n",
       "      <td>0.0</td>\n",
       "      <td>0.0</td>\n",
       "      <td>1.0</td>\n",
       "    </tr>\n",
       "    <tr>\n",
       "      <th>1</th>\n",
       "      <td>CheXpert-v1.0/train/patient00002/study2/view1_...</td>\n",
       "      <td>0.0</td>\n",
       "      <td>0.0</td>\n",
       "      <td>-1.0</td>\n",
       "      <td>1.0</td>\n",
       "      <td>0.0</td>\n",
       "      <td>-1.0</td>\n",
       "      <td>-1.0</td>\n",
       "      <td>0.0</td>\n",
       "      <td>-1.0</td>\n",
       "      <td>0.0</td>\n",
       "      <td>-1.0</td>\n",
       "      <td>0.0</td>\n",
       "      <td>1.0</td>\n",
       "      <td>0.0</td>\n",
       "    </tr>\n",
       "    <tr>\n",
       "      <th>2</th>\n",
       "      <td>CheXpert-v1.0/train/patient00002/study1/view1_...</td>\n",
       "      <td>0.0</td>\n",
       "      <td>0.0</td>\n",
       "      <td>0.0</td>\n",
       "      <td>1.0</td>\n",
       "      <td>0.0</td>\n",
       "      <td>0.0</td>\n",
       "      <td>-1.0</td>\n",
       "      <td>0.0</td>\n",
       "      <td>0.0</td>\n",
       "      <td>0.0</td>\n",
       "      <td>0.0</td>\n",
       "      <td>0.0</td>\n",
       "      <td>1.0</td>\n",
       "      <td>0.0</td>\n",
       "    </tr>\n",
       "    <tr>\n",
       "      <th>4</th>\n",
       "      <td>CheXpert-v1.0/train/patient00003/study1/view1_...</td>\n",
       "      <td>0.0</td>\n",
       "      <td>0.0</td>\n",
       "      <td>0.0</td>\n",
       "      <td>0.0</td>\n",
       "      <td>0.0</td>\n",
       "      <td>1.0</td>\n",
       "      <td>0.0</td>\n",
       "      <td>0.0</td>\n",
       "      <td>0.0</td>\n",
       "      <td>0.0</td>\n",
       "      <td>0.0</td>\n",
       "      <td>0.0</td>\n",
       "      <td>0.0</td>\n",
       "      <td>0.0</td>\n",
       "    </tr>\n",
       "    <tr>\n",
       "      <th>5</th>\n",
       "      <td>CheXpert-v1.0/train/patient00004/study1/view1_...</td>\n",
       "      <td>1.0</td>\n",
       "      <td>0.0</td>\n",
       "      <td>0.0</td>\n",
       "      <td>0.0</td>\n",
       "      <td>0.0</td>\n",
       "      <td>0.0</td>\n",
       "      <td>0.0</td>\n",
       "      <td>0.0</td>\n",
       "      <td>0.0</td>\n",
       "      <td>0.0</td>\n",
       "      <td>0.0</td>\n",
       "      <td>0.0</td>\n",
       "      <td>0.0</td>\n",
       "      <td>0.0</td>\n",
       "    </tr>\n",
       "    <tr>\n",
       "      <th>7</th>\n",
       "      <td>CheXpert-v1.0/train/patient00005/study1/view1_...</td>\n",
       "      <td>1.0</td>\n",
       "      <td>0.0</td>\n",
       "      <td>0.0</td>\n",
       "      <td>0.0</td>\n",
       "      <td>0.0</td>\n",
       "      <td>0.0</td>\n",
       "      <td>0.0</td>\n",
       "      <td>0.0</td>\n",
       "      <td>0.0</td>\n",
       "      <td>0.0</td>\n",
       "      <td>0.0</td>\n",
       "      <td>0.0</td>\n",
       "      <td>0.0</td>\n",
       "      <td>1.0</td>\n",
       "    </tr>\n",
       "    <tr>\n",
       "      <th>9</th>\n",
       "      <td>CheXpert-v1.0/train/patient00005/study2/view1_...</td>\n",
       "      <td>0.0</td>\n",
       "      <td>0.0</td>\n",
       "      <td>0.0</td>\n",
       "      <td>0.0</td>\n",
       "      <td>0.0</td>\n",
       "      <td>0.0</td>\n",
       "      <td>0.0</td>\n",
       "      <td>0.0</td>\n",
       "      <td>0.0</td>\n",
       "      <td>1.0</td>\n",
       "      <td>0.0</td>\n",
       "      <td>0.0</td>\n",
       "      <td>0.0</td>\n",
       "      <td>0.0</td>\n",
       "    </tr>\n",
       "    <tr>\n",
       "      <th>10</th>\n",
       "      <td>CheXpert-v1.0/train/patient00005/study2/view2_...</td>\n",
       "      <td>0.0</td>\n",
       "      <td>0.0</td>\n",
       "      <td>0.0</td>\n",
       "      <td>0.0</td>\n",
       "      <td>0.0</td>\n",
       "      <td>0.0</td>\n",
       "      <td>0.0</td>\n",
       "      <td>0.0</td>\n",
       "      <td>0.0</td>\n",
       "      <td>1.0</td>\n",
       "      <td>0.0</td>\n",
       "      <td>0.0</td>\n",
       "      <td>0.0</td>\n",
       "      <td>0.0</td>\n",
       "    </tr>\n",
       "  </tbody>\n",
       "</table>\n",
       "</div>"
      ],
      "text/plain": [
       "                                                 Path  No Finding  \\\n",
       "0   CheXpert-v1.0/train/patient00001/study1/view1_...         1.0   \n",
       "1   CheXpert-v1.0/train/patient00002/study2/view1_...         0.0   \n",
       "2   CheXpert-v1.0/train/patient00002/study1/view1_...         0.0   \n",
       "4   CheXpert-v1.0/train/patient00003/study1/view1_...         0.0   \n",
       "5   CheXpert-v1.0/train/patient00004/study1/view1_...         1.0   \n",
       "7   CheXpert-v1.0/train/patient00005/study1/view1_...         1.0   \n",
       "9   CheXpert-v1.0/train/patient00005/study2/view1_...         0.0   \n",
       "10  CheXpert-v1.0/train/patient00005/study2/view2_...         0.0   \n",
       "\n",
       "    Enlarged Cardiomediastinum  Cardiomegaly  Lung Opacity  Lung Lesion  \\\n",
       "0                          0.0           0.0           0.0          0.0   \n",
       "1                          0.0          -1.0           1.0          0.0   \n",
       "2                          0.0           0.0           1.0          0.0   \n",
       "4                          0.0           0.0           0.0          0.0   \n",
       "5                          0.0           0.0           0.0          0.0   \n",
       "7                          0.0           0.0           0.0          0.0   \n",
       "9                          0.0           0.0           0.0          0.0   \n",
       "10                         0.0           0.0           0.0          0.0   \n",
       "\n",
       "    Edema  Consolidation  Pneumonia  Atelectasis  Pneumothorax  \\\n",
       "0     0.0            0.0        0.0          0.0           0.0   \n",
       "1    -1.0           -1.0        0.0         -1.0           0.0   \n",
       "2     0.0           -1.0        0.0          0.0           0.0   \n",
       "4     1.0            0.0        0.0          0.0           0.0   \n",
       "5     0.0            0.0        0.0          0.0           0.0   \n",
       "7     0.0            0.0        0.0          0.0           0.0   \n",
       "9     0.0            0.0        0.0          0.0           1.0   \n",
       "10    0.0            0.0        0.0          0.0           1.0   \n",
       "\n",
       "    Pleural Effusion  Pleural Other  Fracture  Support Devices  \n",
       "0                0.0            0.0       0.0              1.0  \n",
       "1               -1.0            0.0       1.0              0.0  \n",
       "2                0.0            0.0       1.0              0.0  \n",
       "4                0.0            0.0       0.0              0.0  \n",
       "5                0.0            0.0       0.0              0.0  \n",
       "7                0.0            0.0       0.0              1.0  \n",
       "9                0.0            0.0       0.0              0.0  \n",
       "10               0.0            0.0       0.0              0.0  "
      ]
     },
     "execution_count": 5,
     "metadata": {},
     "output_type": "execute_result"
    }
   ],
   "source": [
    "train_csv.head(8)"
   ]
  },
  {
   "cell_type": "code",
   "execution_count": 16,
   "metadata": {},
   "outputs": [
    {
     "data": {
      "text/plain": [
       "array(['No Finding', 'Enlarged Cardiomediastinum', 'Cardiomegaly',\n",
       "       'Lung Opacity', 'Lung Lesion', 'Edema', 'Consolidation',\n",
       "       'Pneumonia', 'Atelectasis', 'Pneumothorax', 'Pleural Effusion',\n",
       "       'Pleural Other', 'Fracture', 'Support Devices'], dtype=object)"
      ]
     },
     "execution_count": 16,
     "metadata": {},
     "output_type": "execute_result"
    }
   ],
   "source": [
    "# data visulization\n",
    "labels_name = train_csv.columns[1:].values\n",
    "labels_name"
   ]
  },
  {
   "cell_type": "markdown",
   "metadata": {},
   "source": [
    "# Transforms"
   ]
  },
  {
   "cell_type": "code",
   "execution_count": 9,
   "metadata": {},
   "outputs": [],
   "source": [
    "normMean = [0.50237626, 0.50237626, 0.502376264]\n",
    "normStd = [0.24580306, 0.24236229, 0.2603115]\n",
    "normTransform = transforms.Normalize(normMean, normStd)\n",
    "\n",
    "train_transform = transforms.Compose([\n",
    "    transforms.Resize((256, 256)),\n",
    "    transforms.RandomCrop(224),\n",
    "    transforms.RandomRotation(7),\n",
    "    transforms.RandomHorizontalFlip(p=0.5),\n",
    "    transforms.ToTensor(),\n",
    "    normTransform\n",
    "])\n",
    "\n",
    "test_transform = transforms.Compose([\n",
    "    transforms.Resize((224, 224)),\n",
    "    transforms.ToTensor(),\n",
    "])"
   ]
  },
  {
   "cell_type": "markdown",
   "metadata": {},
   "source": [
    "# Dataset and dataloader"
   ]
  },
  {
   "cell_type": "markdown",
   "metadata": {},
   "source": [
    "Uncertain values are filled by uniformly distributed random numbers in range [0.55, 0.85] "
   ]
  },
  {
   "cell_type": "code",
   "execution_count": 10,
   "metadata": {},
   "outputs": [],
   "source": [
    "class Datasets(Dataset):\n",
    "    \n",
    "    def __init__(self, state, transform=None):\n",
    "        self.path = state.iloc[1:,0].values\n",
    "        labels = state.iloc[1:, 1:].values\n",
    "        for row in range(labels.shape[0]):\n",
    "            for column in range(labels.shape[1]):\n",
    "                if labels[row][column] != 0.0 and labels[row][column] != 1.0:\n",
    "                    labels[row][column] = round(np.random.uniform(0.55, 0.85), 2)\n",
    "        self.labels = labels\n",
    "        \n",
    "        self.transform = transform\n",
    "        \n",
    "    def __getitem__(self, index):\n",
    "        img_path = self.path[index]\n",
    "        img_path = img_path.replace('CheXpert-', 'chexpert/')\n",
    "        image = Image.open(os.path.join(data_path, img_path)).convert('RGB')\n",
    "        label = self.labels[index]\n",
    "        \n",
    "        if self.transform:\n",
    "            image = self.transform(image)\n",
    "            \n",
    "        return image, torch.FloatTensor(label)\n",
    "            \n",
    "    def __len__(self):\n",
    "        return self.path.shape[0]"
   ]
  },
  {
   "cell_type": "code",
   "execution_count": 11,
   "metadata": {},
   "outputs": [],
   "source": [
    "train_data = Datasets(train_csv, train_transform)\n",
    "val_data = Datasets(valid_csv, test_transform)\n",
    "\n",
    "# put it into dataloader\n",
    "batch_size = 8\n",
    "train_loader = DataLoader(train_data, batch_size=batch_size, shuffle=True)\n",
    "val_loader = DataLoader(val_data, batch_size=batch_size, shuffle=False)"
   ]
  },
  {
   "cell_type": "markdown",
   "metadata": {},
   "source": [
    "# Model"
   ]
  },
  {
   "cell_type": "code",
   "execution_count": 12,
   "metadata": {},
   "outputs": [],
   "source": [
    "class Ensemble_model(nn.Module):\n",
    "    def __init__(self, num_classes, is_trained=True):\n",
    "        super().__init__()\n",
    "        \n",
    "        # Load the DenseNet121, DenseNet169, DenseNet201, vgg19, vgg19_bn, mnasnet1_0\n",
    "        self.net_1 = torchvision.models.densenet121(pretrained=is_trained)\n",
    "        self.net_2 = torchvision.models.densenet169(pretrained=is_trained)\n",
    "        self.net_3 = torchvision.models.densenet201(pretrained=is_trained)\n",
    "        self.net_4 = torchvision.models.mnasnet1_0(pretrained=is_trained)\n",
    "        self.net_5 = torchvision.models.vgg19_bn(pretrained=is_trained)\n",
    "        self.net_6 = torchvision.models.vgg19(pretrained=is_trained)\n",
    "        \n",
    "        # Get the input dimension of last layer\n",
    "        kernel_count_1 = 1024\n",
    "        kernel_count_2 = 1664\n",
    "        kernel_count_3 = 1920\n",
    "        kernel_count_4 = 1280\n",
    "        kernel_count_5 = 25088\n",
    "        kernel_count_6 = 25088\n",
    "        \n",
    "        #Remove last linear layer\n",
    "        self.net_1.classifier = nn.Identity()\n",
    "        self.net_2.classifier = nn.Identity()\n",
    "        self.net_3.classifier = nn.Identity()\n",
    "        self.net_4.classifier = nn.Identity()\n",
    "        self.net_5.classifier = nn.Identity()\n",
    "        self.net_6.classifier = nn.Identity()\n",
    "        \n",
    "        # Replace last layer with new layer that have num_classes nodes, after that apply Sigmoid to the output\n",
    "        self.classifier = nn.Sequential(nn.Linear(kernel_count_1 + kernel_count_2 + kernel_count_3 +\\\n",
    "                                                      kernel_count_4 + kernel_count_5 + kernel_count_6, num_classes), nn.Sigmoid())\n",
    "        \n",
    "    def forward(self, x):\n",
    "        x1 = self.net_1(x.clone())  \n",
    "        x1 = x1.view(x1.size(0), -1)\n",
    "        \n",
    "        x2 = self.net_2(x.clone())  \n",
    "        x2 = x2.view(x2.size(0), -1)\n",
    "        \n",
    "        x3 = self.net_3(x.clone())  \n",
    "        x3 = x3.view(x3.size(0), -1)\n",
    "        \n",
    "        x4 = self.net_4(x.clone())  \n",
    "        x4 = x4.view(x4.size(0), -1)\n",
    "        \n",
    "        x5 = self.net_5(x.clone())  \n",
    "        x5 = x5.view(x5.size(0), -1)\n",
    "        \n",
    "        x6 = self.net_6(x)  \n",
    "        x6 = x6.view(x6.size(0), -1)\n",
    "        \n",
    "        x_all = torch.cat((x1, x2, x3, x4, x5, x6), dim=1)\n",
    "        \n",
    "\n",
    "        return self.classifier(x_all)"
   ]
  },
  {
   "cell_type": "code",
   "execution_count": null,
   "metadata": {},
   "outputs": [],
   "source": [
    "model = Ensemble_model(14).cuda()"
   ]
  },
  {
   "cell_type": "markdown",
   "metadata": {},
   "source": [
    "# Loss function, optimizer and scheduler"
   ]
  },
  {
   "cell_type": "code",
   "execution_count": 13,
   "metadata": {},
   "outputs": [],
   "source": [
    "loss = nn.BCELoss()\n",
    "optimizer = torch.optim.Adam(model.parameters(), lr=1e-7, betas=(0.9, 0.999))\n",
    "learning_rate_scheduler = torch.optim.lr_scheduler.StepLR(optimizer, step_size=1, gamma=0.1, last_epoch=-1)"
   ]
  },
  {
   "cell_type": "markdown",
   "metadata": {},
   "source": [
    "Pick 5 target diseases"
   ]
  },
  {
   "cell_type": "code",
   "execution_count": 17,
   "metadata": {},
   "outputs": [
    {
     "data": {
      "text/plain": [
       "[8, 2, 6, 5, 10]"
      ]
     },
     "execution_count": 17,
     "metadata": {},
     "output_type": "execute_result"
    }
   ],
   "source": [
    "target = ['Atelectasis', 'Cardiomegaly', 'Consolidation', 'Edema', 'Pleural Effusion']\n",
    "target_index = [list(labels_name).index(item) for item in target]\n",
    "target_index"
   ]
  },
  {
   "cell_type": "markdown",
   "metadata": {},
   "source": [
    "### Load state dictionary from previous epoch"
   ]
  },
  {
   "cell_type": "markdown",
   "metadata": {},
   "source": [
    "For warm start load state dictionary in cell below and set epoch_start in next cell to corresponding epoch number"
   ]
  },
  {
   "cell_type": "code",
   "execution_count": 15,
   "metadata": {},
   "outputs": [
    {
     "data": {
      "text/plain": [
       "<All keys matched successfully>"
      ]
     },
     "execution_count": 15,
     "metadata": {},
     "output_type": "execute_result"
    }
   ],
   "source": [
    "old = os.path.join(model_path, 'epoch-3_score-0.8458.pth' )\n",
    "model.load_state_dict(torch.load(old))"
   ]
  },
  {
   "cell_type": "markdown",
   "metadata": {},
   "source": [
    "# Training"
   ]
  },
  {
   "cell_type": "code",
   "execution_count": null,
   "metadata": {},
   "outputs": [],
   "source": [
    "target_scores = []\n",
    "target_score_averages = []\n",
    "new_scores = []\n",
    "\n",
    "# use tensorboard to record\n",
    "writer = SummaryWriter()\n",
    "\n",
    "epoch_start = 4\n",
    "num_epoch = 40\n",
    "best_score = 0.0\n",
    "for epoch in range(epoch_start, num_epoch):\n",
    "    train_loss = 0.0\n",
    "    val_loss = 0.0\n",
    "    val_pred = torch.FloatTensor().cuda()     # Tensor stores prediction values\n",
    "    val_label = torch.FloatTensor().cuda()       # Tensor stores true values\n",
    "    \n",
    "    model.train()\n",
    "    \n",
    "    for i, data in enumerate(train_loader):\n",
    "        optimizer.zero_grad()\n",
    "        train_prd = model(data[0].cuda())\n",
    "        batch_loss = loss(train_prd, data[1].cuda())\n",
    "        batch_loss.backward()\n",
    "        optimizer.step()\n",
    "\n",
    "        # tensorboard for batch loss\n",
    "        train_loss += batch_loss.item()\n",
    "        index_train = len(train_loader) * epoch + i\n",
    "        writer.add_scalar('batch_loss', batch_loss.item() , index_train)\n",
    "    \n",
    "    model.eval()\n",
    "    with torch.no_grad():\n",
    "        for j,data in enumerate(val_loader):\n",
    "            prd = model(data[0].cuda())\n",
    "            batch_loss = loss(prd, data[1].cuda())\n",
    "\n",
    "            val_loss += batch_loss.item()\n",
    "            val_pred = torch.cat((val_pred, prd), 0)\n",
    "            val_label = torch.cat((val_label, data[1].cuda()), 0)\n",
    "    \n",
    "    learning_rate_scheduler.step()\n",
    "    \n",
    "    #tensorboard for score and train loss\n",
    "    target_score = [roc_auc_score(val_label.cpu().numpy()[:, i], val_pred.detach().cpu().numpy()[:, i],average='macro', multi_class='ovo') for i in target_index]\n",
    "    target_scores.append(target_score)\n",
    "    target_score_average = roc_auc_score(val_label.cpu().numpy()[:, target_index], val_pred.detach().cpu().numpy()[:, target_index],average='macro', multi_class='ovo')\n",
    "    target_score_averages.append(target_score_average)\n",
    "\n",
    "    train_loss = train_loss/len(train_loader)\n",
    "     \n",
    "        \n",
    "    if best_score < target_score_average:\n",
    "        best_score = target_score_average.round(4)\n",
    "        \n",
    "        torch.save(model.state_dict(), os.path.join(model_path,f'epoch-{epoch}_score-{best_score}.pth'))\n",
    "        \n",
    "    writer.add_scalars('train/val for epochs', {'train_loss':np.array(train_loss), \\\n",
    "                                               'val_target':np.array(target_score_average)}, epoch)\n",
    "writer.close()"
   ]
  },
  {
   "cell_type": "markdown",
   "metadata": {},
   "source": [
    "# Evaluation\n",
    "\n",
    "Load model weights file from directory model_path\n"
   ]
  },
  {
   "cell_type": "code",
   "execution_count": null,
   "metadata": {},
   "outputs": [],
   "source": [
    "file_name = 'epoch-1_score-0.8407.pth'"
   ]
  },
  {
   "cell_type": "code",
   "execution_count": 27,
   "metadata": {},
   "outputs": [],
   "source": [
    "target_scores = []\n",
    "target_score_averages = []\n",
    "valid_loss = []\n",
    "\n",
    "\n",
    "model.load_state_dict(torch.load(os.path.join(model_path,f)))\n",
    "\n",
    "val_pred = torch.FloatTensor().cuda()     # Tensor stores prediction values\n",
    "val_label = torch.FloatTensor().cuda()       # Tensor stores true values\n",
    "\n",
    "val_loss = 0.0\n",
    "with torch.no_grad():\n",
    "    for j,data in enumerate(val_loader):\n",
    "                prd = model(data[0].cuda())\n",
    "                batch_loss = loss(prd, data[1].cuda())\n",
    "\n",
    "                val_loss += batch_loss.item()\n",
    "                val_pred = torch.cat((val_pred, prd), 0)\n",
    "                val_label = torch.cat((val_label, data[1].cuda()), 0)\n",
    "\n",
    "\n",
    "\n",
    "\n",
    "target_score= [roc_auc_score(val_label.cpu().numpy()[:, i], val_pred.detach().cpu().numpy()[:, i],average='macro', multi_class='ovo') for i in target_index]\n",
    "target_scores.append(target_score)\n",
    "target_score_average = roc_auc_score(val_label.cpu().numpy()[:, target_index], val_pred.detach().cpu().numpy()[:, target_index],average='macro', multi_class='ovo')\n",
    "target_score_averages.append(target_score_average)\n",
    "val = val_loss/len(val_loader)\n",
    "valid_loss.append(val)"
   ]
  },
  {
   "cell_type": "code",
   "execution_count": 29,
   "metadata": {},
   "outputs": [
    {
     "data": {
      "text/plain": [
       "([[0.8052910052910053,\n",
       "   0.8143665158371042,\n",
       "   0.9003328402366864,\n",
       "   0.9203354297693922,\n",
       "   0.9070483576642335]],\n",
       " [0.8694748297596844])"
      ]
     },
     "execution_count": 29,
     "metadata": {},
     "output_type": "execute_result"
    }
   ],
   "source": [
    "target_scores, target_score_averages"
   ]
  },
  {
   "cell_type": "code",
   "execution_count": 21,
   "metadata": {},
   "outputs": [
    {
     "data": {
      "text/plain": [
       "Text(0, 0.5, 'validation loss')"
      ]
     },
     "execution_count": 21,
     "metadata": {},
     "output_type": "execute_result"
    },
    {
     "data": {
      "image/png": "[encoded data removed]",
      "text/plain": [
       "<Figure size 432x288 with 1 Axes>"
      ]
     },
     "metadata": {
      "needs_background": "light"
     },
     "output_type": "display_data"
    }
   ],
   "source": [
    "plt.plot(np.arange(7), valid_loss)\n",
    "plt.xlabel('epoch')\n",
    "plt.ylabel('validation loss')"
   ]
  },
  {
   "cell_type": "code",
   "execution_count": 22,
   "metadata": {},
   "outputs": [
    {
     "data": {
      "text/plain": [
       "Text(0, 0.5, 'auc_score')"
      ]
     },
     "execution_count": 22,
     "metadata": {},
     "output_type": "execute_result"
    },
    {
     "data": {
      "image/png": "[encoded data removed]",
      "text/plain": [
       "<Figure size 432x288 with 1 Axes>"
      ]
     },
     "metadata": {
      "needs_background": "light"
     },
     "output_type": "display_data"
    }
   ],
   "source": [
    "plt.plot(np.arange(7), target_score_averages)\n",
    "plt.xlabel('epoch')\n",
    "plt.ylabel('auc_score')"
   ]
  }
 ],
 "metadata": {
  "kernelspec": {
   "display_name": "pytorch",
   "language": "python",
   "name": "pytorch"
  },
  "language_info": {
   "codemirror_mode": {
    "name": "ipython",
    "version": 3
   },
   "file_extension": ".py",
   "mimetype": "text/x-python",
   "name": "python",
   "nbconvert_exporter": "python",
   "pygments_lexer": "ipython3",
   "version": "3.6.9"
  }
 },
 "nbformat": 4,
 "nbformat_minor": 4
}
