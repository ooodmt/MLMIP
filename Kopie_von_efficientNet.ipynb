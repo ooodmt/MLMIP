{
  "nbformat": 4,
  "nbformat_minor": 0,
  "metadata": {
    "kernelspec": {
      "display_name": "pytorch",
      "language": "python",
      "name": "pytorch"
    },
    "language_info": {
      "codemirror_mode": {
        "name": "ipython",
        "version": 3
      },
      "file_extension": ".py",
      "mimetype": "text/x-python",
      "name": "python",
      "nbconvert_exporter": "python",
      "pygments_lexer": "ipython3",
      "version": "3.6.9"
    },
    "colab": {
      "name": "Kopie von efficientNet.ipynb",
      "provenance": [],
      "collapsed_sections": [],
      "include_colab_link": true
    }
  },
  "cells": [
    {
      "cell_type": "markdown",
      "metadata": {
        "id": "view-in-github",
        "colab_type": "text"
      },
      "source": [
        "<a href=\"https://colab.research.google.com/github/ooodmt/MLMIP/blob/master/Kopie_von_efficientNet.ipynb\" target=\"_parent\"><img src=\"https://colab.research.google.com/assets/colab-badge.svg\" alt=\"Open In Colab\"/></a>"
      ]
    },
    {
      "cell_type": "code",
      "metadata": {
        "id": "6_ULlCgi8vHx",
        "colab_type": "code",
        "colab": {
          "base_uri": "https://localhost:8080/",
          "height": 359
        },
        "outputId": "1cc2620a-9fda-41ba-f2ad-8dd47f3225db"
      },
      "source": [
        "import os\n",
        "import torch\n",
        "import time\n",
        "import pandas as pd\n",
        "import numpy as np\n",
        "import cv2\n",
        "import matplotlib.pyplot as plt\n",
        "from sklearn.metrics import classification_report\n",
        "import random\n",
        "import torch.nn as nn\n",
        "import torchvision\n",
        "from torchvision.transforms import transforms\n",
        "from torch.utils.data import DataLoader, Dataset\n",
        "from PIL import Image\n",
        "from torch.autograd import Variable\n",
        "from tqdm.notebook import tqdm\n",
        "from sklearn.metrics import roc_auc_score\n",
        "from torch.utils.tensorboard import SummaryWriter \n",
        "from efficientnet_pytorch import EfficientNet"
      ],
      "execution_count": null,
      "outputs": [
        {
          "output_type": "error",
          "ename": "ModuleNotFoundError",
          "evalue": "ignored",
          "traceback": [
            "\u001b[0;31m---------------------------------------------------------------------------\u001b[0m",
            "\u001b[0;31mModuleNotFoundError\u001b[0m                       Traceback (most recent call last)",
            "\u001b[0;32m<ipython-input-1-0d6dc07f4563>\u001b[0m in \u001b[0;36m<module>\u001b[0;34m()\u001b[0m\n\u001b[1;32m     17\u001b[0m \u001b[0;32mfrom\u001b[0m \u001b[0msklearn\u001b[0m\u001b[0;34m.\u001b[0m\u001b[0mmetrics\u001b[0m \u001b[0;32mimport\u001b[0m \u001b[0mroc_auc_score\u001b[0m\u001b[0;34m\u001b[0m\u001b[0;34m\u001b[0m\u001b[0m\n\u001b[1;32m     18\u001b[0m \u001b[0;32mfrom\u001b[0m \u001b[0mtorch\u001b[0m\u001b[0;34m.\u001b[0m\u001b[0mutils\u001b[0m\u001b[0;34m.\u001b[0m\u001b[0mtensorboard\u001b[0m \u001b[0;32mimport\u001b[0m \u001b[0mSummaryWriter\u001b[0m\u001b[0;34m\u001b[0m\u001b[0;34m\u001b[0m\u001b[0m\n\u001b[0;32m---> 19\u001b[0;31m \u001b[0;32mfrom\u001b[0m \u001b[0mefficientnet_pytorch\u001b[0m \u001b[0;32mimport\u001b[0m \u001b[0mEfficientNet\u001b[0m\u001b[0;34m\u001b[0m\u001b[0;34m\u001b[0m\u001b[0m\n\u001b[0m",
            "\u001b[0;31mModuleNotFoundError\u001b[0m: No module named 'efficientnet_pytorch'",
            "",
            "\u001b[0;31m---------------------------------------------------------------------------\u001b[0;32m\nNOTE: If your import is failing due to a missing package, you can\nmanually install dependencies using either !pip or !apt.\n\nTo view examples of installing some common dependencies, click the\n\"Open Examples\" button below.\n\u001b[0;31m---------------------------------------------------------------------------\u001b[0m\n"
          ]
        }
      ]
    },
    {
      "cell_type": "code",
      "metadata": {
        "id": "alwggEM48vH6",
        "colab_type": "code",
        "colab": {}
      },
      "source": [
        "valid_csv_path = '/home/tu-serbin/data/chexpert/v1.0/valid.csv'\n",
        "model_save_dir = '/home/tu-serbin/group/igloo/alex/saves/'\n",
        "\n",
        "dir_path = '/home/tu-serbin/data/chexpert/v1.0/'\n",
        "data_path = '/home/tu-serbin/data/'\n",
        "\n",
        "cams_path = '/home/tu-serbin/group/igloo/alex/CAMs/'\n",
        "comp_path = '/home/tu-serbin/group/igloo/alex/CAMs/Compound/'\n"
      ],
      "execution_count": null,
      "outputs": []
    },
    {
      "cell_type": "code",
      "metadata": {
        "id": "FyRlOGf48vIY",
        "colab_type": "code",
        "colab": {}
      },
      "source": [
        "efnet = EfficientNet2()\n",
        "\n",
        "load2 = torch.load(model_save_dir+'epoch_3_score_0.88577.pth', map_location='cpu')\n",
        "efnet.load_state_dict(load2['state_dict'])\n",
        "_ = efnet.eval()"
      ],
      "execution_count": null,
      "outputs": []
    },
    {
      "cell_type": "code",
      "metadata": {
        "id": "OoEaXVtE8vIf",
        "colab_type": "code",
        "colab": {}
      },
      "source": [
        "#function which drops lateral image records and irrelevant columns, replaces -1 with 0, corrects Path column\n",
        "\n",
        "def dropper(df):\n",
        "    d = df.copy()\n",
        "    index = d[d[\"Frontal/Lateral\"] == \"Lateral\"].index\n",
        "    d.drop(index=index, axis=0, inplace=True)\n",
        "    d = d.drop(columns=['Sex','Age','Frontal/Lateral','AP/PA'])\n",
        "    #d = d.replace(-1.0,0)\n",
        "    d.Path = d.Path.str.replace('CheXpert-','chexpert/')\n",
        "    d = d.reset_index(drop=True)\n",
        "    return d"
      ],
      "execution_count": null,
      "outputs": []
    },
    {
      "cell_type": "code",
      "metadata": {
        "id": "BH_Oooxw8vIn",
        "colab_type": "code",
        "colab": {}
      },
      "source": [
        "val = pd.read_csv(valid_csv_path, sep=',').fillna(0)\n",
        "\n",
        "val_df = dropper(val)"
      ],
      "execution_count": null,
      "outputs": []
    },
    {
      "cell_type": "code",
      "metadata": {
        "id": "w27U0Utm8vIt",
        "colab_type": "code",
        "colab": {},
        "outputId": "b7f363b4-3d00-4aff-8045-d16d5c274c99"
      },
      "source": [
        "val_df.head()"
      ],
      "execution_count": null,
      "outputs": [
        {
          "output_type": "execute_result",
          "data": {
            "text/html": [
              "<div>\n",
              "<style scoped>\n",
              "    .dataframe tbody tr th:only-of-type {\n",
              "        vertical-align: middle;\n",
              "    }\n",
              "\n",
              "    .dataframe tbody tr th {\n",
              "        vertical-align: top;\n",
              "    }\n",
              "\n",
              "    .dataframe thead th {\n",
              "        text-align: right;\n",
              "    }\n",
              "</style>\n",
              "<table border=\"1\" class=\"dataframe\">\n",
              "  <thead>\n",
              "    <tr style=\"text-align: right;\">\n",
              "      <th></th>\n",
              "      <th>Path</th>\n",
              "      <th>No Finding</th>\n",
              "      <th>Enlarged Cardiomediastinum</th>\n",
              "      <th>Cardiomegaly</th>\n",
              "      <th>Lung Opacity</th>\n",
              "      <th>Lung Lesion</th>\n",
              "      <th>Edema</th>\n",
              "      <th>Consolidation</th>\n",
              "      <th>Pneumonia</th>\n",
              "      <th>Atelectasis</th>\n",
              "      <th>Pneumothorax</th>\n",
              "      <th>Pleural Effusion</th>\n",
              "      <th>Pleural Other</th>\n",
              "      <th>Fracture</th>\n",
              "      <th>Support Devices</th>\n",
              "    </tr>\n",
              "  </thead>\n",
              "  <tbody>\n",
              "    <tr>\n",
              "      <th>0</th>\n",
              "      <td>chexpert/v1.0/valid/patient64541/study1/view1_...</td>\n",
              "      <td>0.0</td>\n",
              "      <td>1.0</td>\n",
              "      <td>1.0</td>\n",
              "      <td>1.0</td>\n",
              "      <td>0.0</td>\n",
              "      <td>0.0</td>\n",
              "      <td>0.0</td>\n",
              "      <td>0.0</td>\n",
              "      <td>0.0</td>\n",
              "      <td>0.0</td>\n",
              "      <td>0.0</td>\n",
              "      <td>0.0</td>\n",
              "      <td>0.0</td>\n",
              "      <td>0.0</td>\n",
              "    </tr>\n",
              "    <tr>\n",
              "      <th>1</th>\n",
              "      <td>chexpert/v1.0/valid/patient64542/study1/view1_...</td>\n",
              "      <td>0.0</td>\n",
              "      <td>0.0</td>\n",
              "      <td>0.0</td>\n",
              "      <td>0.0</td>\n",
              "      <td>0.0</td>\n",
              "      <td>0.0</td>\n",
              "      <td>0.0</td>\n",
              "      <td>0.0</td>\n",
              "      <td>0.0</td>\n",
              "      <td>0.0</td>\n",
              "      <td>0.0</td>\n",
              "      <td>0.0</td>\n",
              "      <td>0.0</td>\n",
              "      <td>1.0</td>\n",
              "    </tr>\n",
              "    <tr>\n",
              "      <th>2</th>\n",
              "      <td>chexpert/v1.0/valid/patient64543/study1/view1_...</td>\n",
              "      <td>0.0</td>\n",
              "      <td>1.0</td>\n",
              "      <td>0.0</td>\n",
              "      <td>1.0</td>\n",
              "      <td>0.0</td>\n",
              "      <td>1.0</td>\n",
              "      <td>0.0</td>\n",
              "      <td>0.0</td>\n",
              "      <td>0.0</td>\n",
              "      <td>0.0</td>\n",
              "      <td>0.0</td>\n",
              "      <td>0.0</td>\n",
              "      <td>0.0</td>\n",
              "      <td>0.0</td>\n",
              "    </tr>\n",
              "    <tr>\n",
              "      <th>3</th>\n",
              "      <td>chexpert/v1.0/valid/patient64544/study1/view1_...</td>\n",
              "      <td>1.0</td>\n",
              "      <td>0.0</td>\n",
              "      <td>0.0</td>\n",
              "      <td>0.0</td>\n",
              "      <td>0.0</td>\n",
              "      <td>0.0</td>\n",
              "      <td>0.0</td>\n",
              "      <td>0.0</td>\n",
              "      <td>0.0</td>\n",
              "      <td>0.0</td>\n",
              "      <td>0.0</td>\n",
              "      <td>0.0</td>\n",
              "      <td>0.0</td>\n",
              "      <td>0.0</td>\n",
              "    </tr>\n",
              "    <tr>\n",
              "      <th>4</th>\n",
              "      <td>chexpert/v1.0/valid/patient64545/study1/view1_...</td>\n",
              "      <td>0.0</td>\n",
              "      <td>1.0</td>\n",
              "      <td>0.0</td>\n",
              "      <td>1.0</td>\n",
              "      <td>0.0</td>\n",
              "      <td>0.0</td>\n",
              "      <td>0.0</td>\n",
              "      <td>0.0</td>\n",
              "      <td>1.0</td>\n",
              "      <td>0.0</td>\n",
              "      <td>1.0</td>\n",
              "      <td>0.0</td>\n",
              "      <td>0.0</td>\n",
              "      <td>0.0</td>\n",
              "    </tr>\n",
              "  </tbody>\n",
              "</table>\n",
              "</div>"
            ],
            "text/plain": [
              "                                                Path  No Finding  \\\n",
              "0  chexpert/v1.0/valid/patient64541/study1/view1_...         0.0   \n",
              "1  chexpert/v1.0/valid/patient64542/study1/view1_...         0.0   \n",
              "2  chexpert/v1.0/valid/patient64543/study1/view1_...         0.0   \n",
              "3  chexpert/v1.0/valid/patient64544/study1/view1_...         1.0   \n",
              "4  chexpert/v1.0/valid/patient64545/study1/view1_...         0.0   \n",
              "\n",
              "   Enlarged Cardiomediastinum  Cardiomegaly  Lung Opacity  Lung Lesion  Edema  \\\n",
              "0                         1.0           1.0           1.0          0.0    0.0   \n",
              "1                         0.0           0.0           0.0          0.0    0.0   \n",
              "2                         1.0           0.0           1.0          0.0    1.0   \n",
              "3                         0.0           0.0           0.0          0.0    0.0   \n",
              "4                         1.0           0.0           1.0          0.0    0.0   \n",
              "\n",
              "   Consolidation  Pneumonia  Atelectasis  Pneumothorax  Pleural Effusion  \\\n",
              "0            0.0        0.0          0.0           0.0               0.0   \n",
              "1            0.0        0.0          0.0           0.0               0.0   \n",
              "2            0.0        0.0          0.0           0.0               0.0   \n",
              "3            0.0        0.0          0.0           0.0               0.0   \n",
              "4            0.0        0.0          1.0           0.0               1.0   \n",
              "\n",
              "   Pleural Other  Fracture  Support Devices  \n",
              "0            0.0       0.0              0.0  \n",
              "1            0.0       0.0              1.0  \n",
              "2            0.0       0.0              0.0  \n",
              "3            0.0       0.0              0.0  \n",
              "4            0.0       0.0              0.0  "
            ]
          },
          "metadata": {
            "tags": []
          },
          "execution_count": 9
        }
      ]
    },
    {
      "cell_type": "code",
      "metadata": {
        "id": "PZ6Zi8ko8vI0",
        "colab_type": "code",
        "colab": {}
      },
      "source": [
        "test_transform = transforms.Compose([\n",
        "    transforms.Resize((456, 456)),\n",
        "    transforms.ToTensor(),\n",
        "])"
      ],
      "execution_count": null,
      "outputs": []
    },
    {
      "cell_type": "code",
      "metadata": {
        "id": "30ALIYQZ8vI4",
        "colab_type": "code",
        "colab": {}
      },
      "source": [
        "# dataset and dataloader\n",
        "#path = all_data['Path'], labels = all_data[all_data.columns[1:15]]\n",
        "\n",
        "class XRayDataset(Dataset):\n",
        "    \n",
        "    def __init__(self, path:pd.Series, labels:pd.DataFrame, transform=None):\n",
        "        self.path = path.reset_index(drop=True)\n",
        "        self.labels = labels.reset_index(drop=True)\n",
        "        self.transform = transform\n",
        "        \n",
        "    def __getitem__(self, index):\n",
        "        img_path = self.path[index].replace('CheXpert-', 'chexpert/')\n",
        "        dir_path = '/home/tu-serbin/data'\n",
        "        image = Image.open(os.path.join(dir_path, img_path)).convert('RGB')\n",
        "        label = self.labels.loc[index].to_numpy()\n",
        "        \n",
        "        if self.transform:\n",
        "            image = self.transform(image)\n",
        "            \n",
        "        return image, label\n",
        "            \n",
        "    def __len__(self):\n",
        "        return self.path.shape[0]\n",
        "        \n",
        "        \n",
        "        "
      ],
      "execution_count": null,
      "outputs": []
    },
    {
      "cell_type": "code",
      "metadata": {
        "id": "DSCUI5_y8vI7",
        "colab_type": "code",
        "colab": {}
      },
      "source": [
        ""
      ],
      "execution_count": null,
      "outputs": []
    },
    {
      "cell_type": "code",
      "metadata": {
        "id": "bpjRuwjG8vJA",
        "colab_type": "code",
        "colab": {}
      },
      "source": [
        "# dataset and dataloader\n",
        "\n",
        "\n",
        "class Datasets(Dataset):\n",
        "    \n",
        "    def __init__(self, state, transform=None):\n",
        "        self.path = state.iloc[1:,0].values\n",
        "        labels = state.iloc[1:, 1:].values\n",
        "        for row in range(labels.shape[0]):\n",
        "            for column in range(labels.shape[1]):\n",
        "                if labels[row][column] != 0.0 and labels[row][column] != 1.0:\n",
        "                    labels[row][column] = round(np.random.uniform(0.55, 0.85), 2)\n",
        "        self.labels = labels\n",
        "        \n",
        "        self.transform = transform\n",
        "        \n",
        "    def __getitem__(self, index):\n",
        "        img_path = self.path[index]\n",
        "        img_path = img_path.replace('CheXpert-', 'chexpert/')\n",
        "        dir_path = '/home/tu-serbin/data'\n",
        "        image = Image.open(os.path.join(dir_path, img_path)).convert('RGB')\n",
        "        label = self.labels[index]\n",
        "        \n",
        "        if self.transform:\n",
        "            image = self.transform(image)\n",
        "            \n",
        "        return image, torch.FloatTensor(label)\n",
        "            \n",
        "    def __len__(self):\n",
        "        return self.path.shape[0]"
      ],
      "execution_count": null,
      "outputs": []
    },
    {
      "cell_type": "code",
      "metadata": {
        "id": "VK9pySjR8vJE",
        "colab_type": "code",
        "colab": {}
      },
      "source": [
        "train_data = Datasets(train_csv, train_transform)\n",
        "val_data = Datasets(valid_csv, test_transform)\n",
        "\n",
        "# put it into dataloader\n",
        "batch_size = 6\n",
        "train_loader = DataLoader(train_data, batch_size=batch_size, shuffle=True)\n",
        "val_loader = DataLoader(val_data, batch_size=batch_size, shuffle=False)"
      ],
      "execution_count": null,
      "outputs": []
    },
    {
      "cell_type": "code",
      "metadata": {
        "id": "9O3JpvOU8vJJ",
        "colab_type": "code",
        "colab": {}
      },
      "source": [
        "class Efficientnet(nn.Module):\n",
        "    \n",
        "    def __init__(self):\n",
        "        super().__init__()\n",
        "        \n",
        "        self.net = EfficientNet.from_pretrained('efficientnet-b5')\n",
        "        self.net._fc = nn.Sequential(nn.Linear(2048, 14), nn.Sigmoid())\n",
        "        \n",
        "    def forward(self,x):\n",
        "        \n",
        "        return self.net(x)"
      ],
      "execution_count": null,
      "outputs": []
    },
    {
      "cell_type": "code",
      "metadata": {
        "id": "g6k6q9Uc8vJN",
        "colab_type": "code",
        "colab": {},
        "outputId": "cfc2d15a-b28d-4ebc-8b9c-c345343b6322"
      },
      "source": [
        "\n",
        "model = Efficientnet().cuda()\n",
        "\n",
        "\n",
        "#choose Loss, Optimizer\n",
        "loss = nn.BCELoss()\n",
        "optimizer = torch.optim.Adam(model.parameters(), lr=1e-3, betas=(0.9, 0.999))\n",
        "learning_rate_scheduler = torch.optim.lr_scheduler.StepLR(optimizer, step_size=1, gamma=0.5, last_epoch=-1)"
      ],
      "execution_count": null,
      "outputs": [
        {
          "output_type": "stream",
          "text": [
            "Loaded pretrained weights for efficientnet-b5\n"
          ],
          "name": "stdout"
        }
      ]
    },
    {
      "cell_type": "code",
      "metadata": {
        "id": "kNOlwTX28vJT",
        "colab_type": "code",
        "colab": {},
        "outputId": "5fb83e50-6478-4dc7-ab14-d8538a8f4da5"
      },
      "source": [
        "labels_name = train_csv.columns[1:].values\n",
        "target = ['Atelectasis', 'Cardiomegaly', 'Consolidation', 'Edema', 'Pleural Effusion']\n",
        "target_index = [list(labels_name).index(item) for item in target]\n",
        "target_index"
      ],
      "execution_count": null,
      "outputs": [
        {
          "output_type": "execute_result",
          "data": {
            "text/plain": [
              "[8, 2, 6, 5, 10]"
            ]
          },
          "metadata": {
            "tags": []
          },
          "execution_count": 10
        }
      ]
    },
    {
      "cell_type": "code",
      "metadata": {
        "id": "uk963PbM8vJW",
        "colab_type": "code",
        "colab": {}
      },
      "source": [
        "old = os.path.join(model_path, 'epoch_3_score_0.88577.pth' )\n",
        "model.load_state_dict(torch.load(old)['state_dict'])\n",
        "optimizer.load_state_dict(torch.load(old)['optimizer'])"
      ],
      "execution_count": null,
      "outputs": []
    },
    {
      "cell_type": "code",
      "metadata": {
        "id": "jTIwJXmi8vJb",
        "colab_type": "code",
        "colab": {},
        "outputId": "e4fde235-59ae-4175-9fed-8f1090c97f91"
      },
      "source": [
        "optimizer"
      ],
      "execution_count": null,
      "outputs": [
        {
          "output_type": "execute_result",
          "data": {
            "text/plain": [
              "Adam (\n",
              "Parameter Group 0\n",
              "    amsgrad: False\n",
              "    betas: (0.9, 0.999)\n",
              "    eps: 1e-08\n",
              "    initial_lr: 0.001\n",
              "    lr: 3.125e-05\n",
              "    weight_decay: 0\n",
              ")"
            ]
          },
          "metadata": {
            "tags": []
          },
          "execution_count": 12
        }
      ]
    },
    {
      "cell_type": "code",
      "metadata": {
        "id": "wVwoVmFD8vJe",
        "colab_type": "code",
        "colab": {}
      },
      "source": [
        "target_scores = []\n",
        "target_score_averages = []\n",
        "new_scores = []\n",
        "\n",
        "# use tensorboard to record\n",
        "writer = SummaryWriter()\n",
        "\n",
        "epoch_start = 4\n",
        "num_epoch = 40\n",
        "best_score = 0.0\n",
        "for epoch in range(epoch_start, num_epoch):\n",
        "    \n",
        "    epoch_star = time.time()\n",
        "    train_loss = 0.0\n",
        "    val_loss = 0.0\n",
        "    val_pred = torch.FloatTensor().cuda()     # Tensor stores prediction values\n",
        "    val_label = torch.FloatTensor().cuda()       # Tensor stores true values\n",
        "    \n",
        "    model.train()\n",
        "    for i, data in enumerate(train_loader):\n",
        "        optimizer.zero_grad()\n",
        "        train_prd = model(data[0].cuda())\n",
        "        batch_loss = loss(train_prd, data[1].cuda())\n",
        "        batch_loss.backward()\n",
        "        optimizer.step()\n",
        "\n",
        "        # tensorboard for batch loss\n",
        "        train_loss += batch_loss.item()\n",
        "        index_train = len(train_loader) * epoch + i\n",
        "        writer.add_scalar('batch_loss', batch_loss.item() , index_train)\n",
        "    \n",
        "    model.eval()\n",
        "    with torch.no_grad():\n",
        "        for j,data in enumerate(val_loader):\n",
        "            prd = model(data[0].cuda())\n",
        "            batch_loss = loss(prd, data[1].cuda())\n",
        "\n",
        "            val_loss += batch_loss.item()\n",
        "            val_pred = torch.cat((val_pred, prd), 0)\n",
        "            val_label = torch.cat((val_label, data[1].cuda()), 0)\n",
        "      \n",
        "    learning_rate_scheduler.step()\n",
        "    \n",
        "    #tensorboard for score and train loss\n",
        "    target_score = [roc_auc_score(val_label.cpu().numpy()[:, i], val_pred.detach().cpu().numpy()[:, i],average='macro', multi_class='ovo') for i in target_index]\n",
        "    target_scores.append(target_score)\n",
        "    target_score_average = roc_auc_score(val_label.cpu().numpy()[:, target_index], val_pred.detach().cpu().numpy()[:, target_index],average='macro', multi_class='ovo')\n",
        "    target_score_averages.append(target_score_average)\n",
        "#     new_score = roc_auc_score(val_label.cpu().numpy(), val_pred.detach().cpu().numpy(),average='macro', multi_class='ovo')\n",
        "#     new_scores.append(new_score)\n",
        "    \n",
        "    train_loss = train_loss/len(train_loader)\n",
        "\n",
        "    best_score = target_score_average.round(5)\n",
        "    torch.save({'state_dict': model.state_dict(), 'optimizer' : optimizer.state_dict()}, os.path.join(model_path, f'epoch_{epoch}_score_{best_score}.pth'))\n",
        "        \n",
        "    writer.add_scalars('train/val for epochs', {'train_loss':np.array(train_loss), \\\n",
        "                                               'val_target':np.array(target_score_average),\\\n",
        "                                               'val_loss': np.array(val_loss)}, epoch)\n",
        "\n",
        "\n",
        "writer.close()"
      ],
      "execution_count": null,
      "outputs": []
    },
    {
      "cell_type": "code",
      "metadata": {
        "id": "xCM35vjj8vJh",
        "colab_type": "code",
        "colab": {},
        "outputId": "0253ba31-6269-4e1f-9bf6-4a0a2bce9f34"
      },
      "source": [
        "optimizer"
      ],
      "execution_count": null,
      "outputs": [
        {
          "output_type": "execute_result",
          "data": {
            "text/plain": [
              "Adam (\n",
              "Parameter Group 0\n",
              "    amsgrad: False\n",
              "    betas: (0.9, 0.999)\n",
              "    eps: 1e-08\n",
              "    initial_lr: 0.001\n",
              "    lr: 0.0005\n",
              "    weight_decay: 0\n",
              ")"
            ]
          },
          "metadata": {
            "tags": []
          },
          "execution_count": 31
        }
      ]
    },
    {
      "cell_type": "code",
      "metadata": {
        "id": "5ENkqALt8vJl",
        "colab_type": "code",
        "colab": {},
        "outputId": "f43ff27a-ac03-4d46-cf56-cde223f9fa2a"
      },
      "source": [
        "target_scores\n",
        "[[0.8665608465608465,\n",
        "  0.8032805429864254,\n",
        "  0.9040310650887574,\n",
        "  0.917340521114106,\n",
        "  0.9275775547445255],\n",
        " [0.8707936507936508,\n",
        "  0.8100678733031674,\n",
        "  0.904215976331361,\n",
        "  0.9101527403414195,\n",
        "  0.9262089416058393],\n",
        " [0.8704761904761904,\n",
        "  0.8046380090497739,\n",
        "  0.9060650887573964,\n",
        "  0.9122491764001197,\n",
        "  0.9255246350364963],\n",
        " [0.8707936507936508,\n",
        "  0.8061085972850679,\n",
        "  0.9051405325443787,\n",
        "  0.9126984126984126,\n",
        "  0.9257527372262773]]"
      ],
      "execution_count": null,
      "outputs": [
        {
          "output_type": "execute_result",
          "data": {
            "text/plain": [
              "[[0.8665608465608465,\n",
              "  0.8032805429864254,\n",
              "  0.9040310650887574,\n",
              "  0.917340521114106,\n",
              "  0.9275775547445255],\n",
              " [0.8707936507936508,\n",
              "  0.8100678733031674,\n",
              "  0.904215976331361,\n",
              "  0.9101527403414195,\n",
              "  0.9262089416058393],\n",
              " [0.8704761904761904,\n",
              "  0.8046380090497739,\n",
              "  0.9060650887573964,\n",
              "  0.9122491764001197,\n",
              "  0.9255246350364963],\n",
              " [0.8707936507936508,\n",
              "  0.8061085972850679,\n",
              "  0.9051405325443787,\n",
              "  0.9126984126984126,\n",
              "  0.9257527372262773]]"
            ]
          },
          "metadata": {
            "tags": []
          },
          "execution_count": 17
        }
      ]
    },
    {
      "cell_type": "code",
      "metadata": {
        "id": "hDuTaS8s8vJp",
        "colab_type": "code",
        "colab": {},
        "outputId": "d3b66f93-c220-4305-8836-69751ed2f85e"
      },
      "source": [
        "target_score_averages\n",
        "[0.8837581060989322,\n",
        " 0.8842878364750876,\n",
        " 0.8837906199439954,\n",
        " 0.8840987861095574]"
      ],
      "execution_count": null,
      "outputs": [
        {
          "output_type": "execute_result",
          "data": {
            "text/plain": [
              "[0.8837581060989322,\n",
              " 0.8842878364750876,\n",
              " 0.8837906199439954,\n",
              " 0.8840987861095574]"
            ]
          },
          "metadata": {
            "tags": []
          },
          "execution_count": 19
        }
      ]
    },
    {
      "cell_type": "code",
      "metadata": {
        "id": "0MUlTfv98vJr",
        "colab_type": "code",
        "colab": {},
        "outputId": "9e490742-e6ad-47b5-ff7b-1b1a512f52c3"
      },
      "source": [
        "optimizer"
      ],
      "execution_count": null,
      "outputs": [
        {
          "output_type": "execute_result",
          "data": {
            "text/plain": [
              "Adam (\n",
              "Parameter Group 0\n",
              "    amsgrad: False\n",
              "    betas: (0.9, 0.999)\n",
              "    eps: 1e-08\n",
              "    initial_lr: 0.001\n",
              "    lr: 1.953125e-06\n",
              "    weight_decay: 0\n",
              ")"
            ]
          },
          "metadata": {
            "tags": []
          },
          "execution_count": 20
        }
      ]
    },
    {
      "cell_type": "code",
      "metadata": {
        "id": "18eoQxda8vJx",
        "colab_type": "code",
        "colab": {}
      },
      "source": [
        ""
      ],
      "execution_count": null,
      "outputs": []
    }
  ]
}